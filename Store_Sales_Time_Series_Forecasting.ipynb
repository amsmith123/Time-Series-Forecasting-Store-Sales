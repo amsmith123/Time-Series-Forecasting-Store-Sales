{
  "metadata": {
    "kernelspec": {
      "language": "python",
      "display_name": "Python 3",
      "name": "python3"
    },
    "language_info": {
      "name": "python",
      "version": "3.10.12",
      "mimetype": "text/x-python",
      "codemirror_mode": {
        "name": "ipython",
        "version": 3
      },
      "pygments_lexer": "ipython3",
      "nbconvert_exporter": "python",
      "file_extension": ".py"
    },
    "kaggle": {
      "accelerator": "none",
      "dataSources": [
        {
          "sourceId": 29781,
          "databundleVersionId": 2887556,
          "sourceType": "competition"
        }
      ],
      "dockerImageVersionId": 30635,
      "isInternetEnabled": true,
      "language": "python",
      "sourceType": "notebook",
      "isGpuEnabled": false
    },
    "colab": {
      "provenance": [],
      "include_colab_link": true
    }
  },
  "nbformat_minor": 0,
  "nbformat": 4,
  "cells": [
    {
      "cell_type": "markdown",
      "metadata": {
        "id": "view-in-github",
        "colab_type": "text"
      },
      "source": [
        "<a href=\"https://colab.research.google.com/github/amsmith123/Time-Series-Forecasting-Store-Sales/blob/main/Store_Sales_Time_Series_Forecasting.ipynb\" target=\"_parent\"><img src=\"https://colab.research.google.com/assets/colab-badge.svg\" alt=\"Open In Colab\"/></a>"
      ]
    },
    {
      "source": [
        "\n",
        "# IMPORTANT: RUN THIS CELL IN ORDER TO IMPORT YOUR KAGGLE DATA SOURCES\n",
        "# TO THE CORRECT LOCATION (/kaggle/input) IN YOUR NOTEBOOK,\n",
        "# THEN FEEL FREE TO DELETE THIS CELL.\n",
        "# NOTE: THIS NOTEBOOK ENVIRONMENT DIFFERS FROM KAGGLE'S PYTHON\n",
        "# ENVIRONMENT SO THERE MAY BE MISSING LIBRARIES USED BY YOUR\n",
        "# NOTEBOOK.\n",
        "\n",
        "import os\n",
        "import sys\n",
        "from tempfile import NamedTemporaryFile\n",
        "from urllib.request import urlopen\n",
        "from urllib.parse import unquote, urlparse\n",
        "from urllib.error import HTTPError\n",
        "from zipfile import ZipFile\n",
        "import tarfile\n",
        "import shutil\n",
        "\n",
        "CHUNK_SIZE = 40960\n",
        "DATA_SOURCE_MAPPING = 'store-sales-time-series-forecasting:https%3A%2F%2Fstorage.googleapis.com%2Fkaggle-competitions-data%2Fkaggle-v2%2F29781%2F2887556%2Fbundle%2Farchive.zip%3FX-Goog-Algorithm%3DGOOG4-RSA-SHA256%26X-Goog-Credential%3Dgcp-kaggle-com%2540kaggle-161607.iam.gserviceaccount.com%252F20240205%252Fauto%252Fstorage%252Fgoog4_request%26X-Goog-Date%3D20240205T181829Z%26X-Goog-Expires%3D259200%26X-Goog-SignedHeaders%3Dhost%26X-Goog-Signature%3D8365f9d727c383b8dafdb5353cfd040f9d810817fd1fa47574f4ed66f235ac50391f244f72c65e272b1631055e7b1d15f93289afd8aeb827584a9a12e9088a31f7eb8fcbe070b93a0d105999da363911cabbc753b0036684d81b16114de2ffccd46591d3680e6a9c8e109a4dabf9c53362f162b12180e584d2a5669bf961e50c5462bfe05a18ea5ff961677526edc5473530c1e31ac7d5cf7525f66caefda3de4901620da30b648d73cc20fc3cd840e1984004a1438350842463cbf69fa3d27aa90d77e185f35dabf5740de6afce30ba49781f3a272b2089a1a9a234d6a37116197842d1aad4e7121da5a090a2407520f4c59235c0267d206435f5929f77e00f'\n",
        "\n",
        "KAGGLE_INPUT_PATH='/kaggle/input'\n",
        "KAGGLE_WORKING_PATH='/kaggle/working'\n",
        "KAGGLE_SYMLINK='kaggle'\n",
        "\n",
        "!umount /kaggle/input/ 2> /dev/null\n",
        "shutil.rmtree('/kaggle/input', ignore_errors=True)\n",
        "os.makedirs(KAGGLE_INPUT_PATH, 0o777, exist_ok=True)\n",
        "os.makedirs(KAGGLE_WORKING_PATH, 0o777, exist_ok=True)\n",
        "\n",
        "try:\n",
        "  os.symlink(KAGGLE_INPUT_PATH, os.path.join(\"..\", 'input'), target_is_directory=True)\n",
        "except FileExistsError:\n",
        "  pass\n",
        "try:\n",
        "  os.symlink(KAGGLE_WORKING_PATH, os.path.join(\"..\", 'working'), target_is_directory=True)\n",
        "except FileExistsError:\n",
        "  pass\n",
        "\n",
        "for data_source_mapping in DATA_SOURCE_MAPPING.split(','):\n",
        "    directory, download_url_encoded = data_source_mapping.split(':')\n",
        "    download_url = unquote(download_url_encoded)\n",
        "    filename = urlparse(download_url).path\n",
        "    destination_path = os.path.join(KAGGLE_INPUT_PATH, directory)\n",
        "    try:\n",
        "        with urlopen(download_url) as fileres, NamedTemporaryFile() as tfile:\n",
        "            total_length = fileres.headers['content-length']\n",
        "            print(f'Downloading {directory}, {total_length} bytes compressed')\n",
        "            dl = 0\n",
        "            data = fileres.read(CHUNK_SIZE)\n",
        "            while len(data) > 0:\n",
        "                dl += len(data)\n",
        "                tfile.write(data)\n",
        "                done = int(50 * dl / int(total_length))\n",
        "                sys.stdout.write(f\"\\r[{'=' * done}{' ' * (50-done)}] {dl} bytes downloaded\")\n",
        "                sys.stdout.flush()\n",
        "                data = fileres.read(CHUNK_SIZE)\n",
        "            if filename.endswith('.zip'):\n",
        "              with ZipFile(tfile) as zfile:\n",
        "                zfile.extractall(destination_path)\n",
        "            else:\n",
        "              with tarfile.open(tfile.name) as tarfile:\n",
        "                tarfile.extractall(destination_path)\n",
        "            print(f'\\nDownloaded and uncompressed: {directory}')\n",
        "    except HTTPError as e:\n",
        "        print(f'Failed to load (likely expired) {download_url} to path {destination_path}')\n",
        "        continue\n",
        "    except OSError as e:\n",
        "        print(f'Failed to load {download_url} to path {destination_path}')\n",
        "        continue\n",
        "\n",
        "print('Data source import complete.')\n"
      ],
      "metadata": {
        "id": "w6k9Zd71fjpP",
        "colab": {
          "base_uri": "https://localhost:8080/"
        },
        "outputId": "a655c857-3c37-47e0-bcbf-48a6a2c22e02"
      },
      "cell_type": "code",
      "outputs": [
        {
          "output_type": "stream",
          "name": "stdout",
          "text": [
            "Downloading store-sales-time-series-forecasting, 22416355 bytes compressed\n",
            "[==================================================] 22416355 bytes downloaded\n",
            "Downloaded and uncompressed: store-sales-time-series-forecasting\n",
            "Data source import complete.\n"
          ]
        }
      ],
      "execution_count": 1
    },
    {
      "cell_type": "code",
      "source": [
        "# This Python 3 environment comes with many helpful analytics libraries installed\n",
        "# It is defined by the kaggle/python Docker image: https://github.com/kaggle/docker-python\n",
        "# For example, here's several helpful packages to load\n",
        "\n",
        "import numpy as np # linear algebra\n",
        "import pandas as pd # data processing, CSV file I/O (e.g. pd.read_csv)\n",
        "import matplotlib.pyplot as plt\n",
        "\n",
        "# Input data files are available in the read-only \"../input/\" directory\n",
        "# For example, running this (by clicking run or pressing Shift+Enter) will list all files under the input directory\n",
        "\n",
        "import os\n",
        "for dirname, _, filenames in os.walk('/kaggle/input'):\n",
        "    for filename in filenames:\n",
        "        print(os.path.join(dirname, filename))\n",
        "\n",
        "# You can write up to 20GB to the current directory (/kaggle/working/) that gets preserved as output when you create a version using \"Save & Run All\"\n",
        "# You can also write temporary files to /kaggle/temp/, but they won't be saved outside of the current session"
      ],
      "metadata": {
        "_uuid": "8f2839f25d086af736a60e9eeb907d3b93b6e0e5",
        "_cell_guid": "b1076dfc-b9ad-4769-8c92-a6c4dae69d19",
        "execution": {
          "iopub.status.busy": "2024-02-02T04:57:27.026155Z",
          "iopub.execute_input": "2024-02-02T04:57:27.026588Z",
          "iopub.status.idle": "2024-02-02T04:57:27.036166Z",
          "shell.execute_reply.started": "2024-02-02T04:57:27.026551Z",
          "shell.execute_reply": "2024-02-02T04:57:27.034847Z"
        },
        "trusted": true,
        "id": "eV1alO5UfjpT",
        "colab": {
          "base_uri": "https://localhost:8080/"
        },
        "outputId": "258571bc-34e9-455b-ed76-135a386b1184"
      },
      "execution_count": 2,
      "outputs": [
        {
          "output_type": "stream",
          "name": "stdout",
          "text": [
            "/kaggle/input/store-sales-time-series-forecasting/oil.csv\n",
            "/kaggle/input/store-sales-time-series-forecasting/train.csv\n",
            "/kaggle/input/store-sales-time-series-forecasting/holidays_events.csv\n",
            "/kaggle/input/store-sales-time-series-forecasting/stores.csv\n",
            "/kaggle/input/store-sales-time-series-forecasting/transactions.csv\n",
            "/kaggle/input/store-sales-time-series-forecasting/test.csv\n",
            "/kaggle/input/store-sales-time-series-forecasting/sample_submission.csv\n"
          ]
        }
      ]
    },
    {
      "cell_type": "markdown",
      "source": [
        "# Loading the data"
      ],
      "metadata": {
        "id": "MY86e7uDfjpU"
      }
    },
    {
      "cell_type": "markdown",
      "source": [
        "Load data into dataframes"
      ],
      "metadata": {
        "id": "BzAguEnogmuC"
      }
    },
    {
      "cell_type": "code",
      "source": [
        "df_train = pd.read_csv('/kaggle/input/store-sales-time-series-forecasting/train.csv')\n",
        "df_test = pd.read_csv('/kaggle/input/store-sales-time-series-forecasting/test.csv')\n",
        "df_stores = pd.read_csv('/kaggle/input/store-sales-time-series-forecasting/stores.csv')\n",
        "df_hol_events = pd.read_csv('/kaggle/input/store-sales-time-series-forecasting/holidays_events.csv')\n",
        "df_oil = pd.read_csv('/kaggle/input/store-sales-time-series-forecasting/oil.csv')\n",
        "df_sample = pd.read_csv('/kaggle/input/store-sales-time-series-forecasting/sample_submission.csv')"
      ],
      "metadata": {
        "execution": {
          "iopub.status.busy": "2024-02-02T04:57:27.052936Z",
          "iopub.execute_input": "2024-02-02T04:57:27.053381Z",
          "iopub.status.idle": "2024-02-02T04:57:30.376577Z",
          "shell.execute_reply.started": "2024-02-02T04:57:27.053337Z",
          "shell.execute_reply": "2024-02-02T04:57:30.375191Z"
        },
        "trusted": true,
        "id": "IlmnDJgqfjpV"
      },
      "execution_count": 3,
      "outputs": []
    },
    {
      "cell_type": "markdown",
      "source": [
        "Merge data"
      ],
      "metadata": {
        "id": "MkZgM11bgkwg"
      }
    },
    {
      "cell_type": "code",
      "source": [
        "# Merge training dataframes\n",
        "df_train = df_train.merge(df_stores, on='store_nbr', how='left')\n",
        "df_train = df_train.merge(df_oil, on='date', how='left')\n",
        "df_train = df_train.merge(df_hol_events, on='date', how='left')\n",
        "df_train = df_train.rename(columns={'type_x': 'store_type','type_y':'holiday_type'})\n",
        "# df_combined = df_combined.merge(df_transactions, on='store_nbr', how='inner')\n",
        "\n",
        "# Merge test dataframes\n",
        "df_test = df_test.merge(df_stores, on='store_nbr', how='left')\n",
        "df_test = df_test.merge(df_oil, on='date', how='left')\n",
        "df_test = df_test.merge(df_hol_events, on='date', how='left')\n",
        "df_test = df_test.rename(columns={'type_x': 'store_type','type_y':'holiday_type'})\n",
        "df_train.info()\n",
        "df_test.info()"
      ],
      "metadata": {
        "execution": {
          "iopub.status.busy": "2024-02-02T04:57:30.385314Z",
          "iopub.execute_input": "2024-02-02T04:57:30.386688Z",
          "iopub.status.idle": "2024-02-02T04:57:35.177962Z",
          "shell.execute_reply.started": "2024-02-02T04:57:30.386618Z",
          "shell.execute_reply": "2024-02-02T04:57:35.17625Z"
        },
        "trusted": true,
        "id": "0z5cplbzfjpW",
        "colab": {
          "base_uri": "https://localhost:8080/"
        },
        "outputId": "5abe377a-1cce-49d8-94f0-5866d9657cbf"
      },
      "execution_count": 4,
      "outputs": [
        {
          "output_type": "stream",
          "name": "stdout",
          "text": [
            "<class 'pandas.core.frame.DataFrame'>\n",
            "Int64Index: 3054348 entries, 0 to 3054347\n",
            "Data columns (total 16 columns):\n",
            " #   Column        Dtype  \n",
            "---  ------        -----  \n",
            " 0   id            int64  \n",
            " 1   date          object \n",
            " 2   store_nbr     int64  \n",
            " 3   family        object \n",
            " 4   sales         float64\n",
            " 5   onpromotion   int64  \n",
            " 6   city          object \n",
            " 7   state         object \n",
            " 8   store_type    object \n",
            " 9   cluster       int64  \n",
            " 10  dcoilwtico    float64\n",
            " 11  holiday_type  object \n",
            " 12  locale        object \n",
            " 13  locale_name   object \n",
            " 14  description   object \n",
            " 15  transferred   object \n",
            "dtypes: float64(2), int64(4), object(10)\n",
            "memory usage: 396.1+ MB\n",
            "<class 'pandas.core.frame.DataFrame'>\n",
            "Int64Index: 28512 entries, 0 to 28511\n",
            "Data columns (total 15 columns):\n",
            " #   Column        Non-Null Count  Dtype  \n",
            "---  ------        --------------  -----  \n",
            " 0   id            28512 non-null  int64  \n",
            " 1   date          28512 non-null  object \n",
            " 2   store_nbr     28512 non-null  int64  \n",
            " 3   family        28512 non-null  object \n",
            " 4   onpromotion   28512 non-null  int64  \n",
            " 5   city          28512 non-null  object \n",
            " 6   state         28512 non-null  object \n",
            " 7   store_type    28512 non-null  object \n",
            " 8   cluster       28512 non-null  int64  \n",
            " 9   dcoilwtico    21384 non-null  float64\n",
            " 10  holiday_type  1782 non-null   object \n",
            " 11  locale        1782 non-null   object \n",
            " 12  locale_name   1782 non-null   object \n",
            " 13  description   1782 non-null   object \n",
            " 14  transferred   1782 non-null   object \n",
            "dtypes: float64(1), int64(4), object(10)\n",
            "memory usage: 3.5+ MB\n"
          ]
        }
      ]
    },
    {
      "cell_type": "markdown",
      "source": [
        "Look for correlation between Oil Prices vs Sales"
      ],
      "metadata": {
        "id": "BuBSalTmfjpX"
      }
    },
    {
      "cell_type": "code",
      "source": [
        "import matplotlib.dates as mdates\n",
        "sales_by_date = df_train.groupby(by='date')['sales'].sum().reset_index()\n",
        "sales_by_date = sales_by_date.sort_values('date')\n",
        "oil_by_date = df_train.groupby(by='date')['dcoilwtico'].sum().reset_index()\n",
        "oil_by_date = oil_by_date.sort_values('date')\n",
        "\n",
        "plt.plot(sales_by_date['date'], sales_by_date['sales'], marker='', linestyle='-', color='b', label='Sales', zorder=1)\n",
        "plt.plot(oil_by_date['date'], oil_by_date['dcoilwtico'], marker='', linestyle='-', color='r', label='Oil Price', zorder=2)\n",
        "plt.title('Sales and Oil Price Over Time')\n",
        "plt.xlabel('Date')\n",
        "plt.ylabel('Value')\n",
        "plt.legend()\n",
        "plt.gcf().autofmt_xdate()\n",
        "plt.show()"
      ],
      "metadata": {
        "execution": {
          "iopub.status.busy": "2024-02-02T04:57:35.1809Z",
          "iopub.execute_input": "2024-02-02T04:57:35.181937Z",
          "iopub.status.idle": "2024-02-02T04:57:35.975858Z",
          "shell.execute_reply.started": "2024-02-02T04:57:35.181891Z",
          "shell.execute_reply": "2024-02-02T04:57:35.974569Z"
        },
        "trusted": true,
        "id": "76XvjZgPfjpX",
        "colab": {
          "base_uri": "https://localhost:8080/",
          "height": 467
        },
        "outputId": "5f34a957-e332-408a-e732-f7910e3053c4"
      },
      "execution_count": 5,
      "outputs": [
        {
          "output_type": "display_data",
          "data": {
            "text/plain": [
              "<Figure size 640x480 with 1 Axes>"
            ],
            "image/png": "[encoded data removed]"
          },
          "metadata": {}
        }
      ]
    },
    {
      "cell_type": "markdown",
      "source": [
        "Filter out non-relevant holidays from training data (remove hollidays that do not occur in the same location as the store)"
      ],
      "metadata": {
        "id": "eqi18d3Qgqy4"
      }
    },
    {
      "cell_type": "code",
      "source": [
        "holiday_data = df_train[df_train['holiday_type'].notna()]\n",
        "print(len(list(holiday_data['holiday_type'])))\n",
        "holiday_data = df_train[\n",
        "    (df_train['holiday_type'] == 'Holiday')\n",
        "    & ((df_train['locale'] == 'National')\n",
        "        | (df_train['locale_name'] == df_train['city'])\n",
        "        | ((df_train['locale'] == 'Regional') & (df_train['locale_name'] == df_train['state'])))]\n",
        "print(len(list(holiday_data['holiday_type'])))\n",
        "print(holiday_data.info())"
      ],
      "metadata": {
        "execution": {
          "iopub.status.busy": "2024-02-02T04:57:35.978002Z",
          "iopub.execute_input": "2024-02-02T04:57:35.979039Z",
          "iopub.status.idle": "2024-02-02T04:57:37.484217Z",
          "shell.execute_reply.started": "2024-02-02T04:57:35.978986Z",
          "shell.execute_reply": "2024-02-02T04:57:37.482614Z"
        },
        "trusted": true,
        "id": "S9kGy3YhfjpX",
        "colab": {
          "base_uri": "https://localhost:8080/"
        },
        "outputId": "990ffe26-1349-4ee7-c499-80c436d1b965"
      },
      "execution_count": 6,
      "outputs": [
        {
          "output_type": "stream",
          "name": "stdout",
          "text": [
            "502524\n",
            "93225\n",
            "<class 'pandas.core.frame.DataFrame'>\n",
            "Int64Index: 93225 entries, 0 to 3052763\n",
            "Data columns (total 16 columns):\n",
            " #   Column        Non-Null Count  Dtype  \n",
            "---  ------        --------------  -----  \n",
            " 0   id            93225 non-null  int64  \n",
            " 1   date          93225 non-null  object \n",
            " 2   store_nbr     93225 non-null  int64  \n",
            " 3   family        93225 non-null  object \n",
            " 4   sales         93225 non-null  float64\n",
            " 5   onpromotion   93225 non-null  int64  \n",
            " 6   city          93225 non-null  object \n",
            " 7   state         93225 non-null  object \n",
            " 8   store_type    93225 non-null  object \n",
            " 9   cluster       93225 non-null  int64  \n",
            " 10  dcoilwtico    56001 non-null  float64\n",
            " 11  holiday_type  93225 non-null  object \n",
            " 12  locale        93225 non-null  object \n",
            " 13  locale_name   93225 non-null  object \n",
            " 14  description   93225 non-null  object \n",
            " 15  transferred   93225 non-null  object \n",
            "dtypes: float64(2), int64(4), object(10)\n",
            "memory usage: 12.1+ MB\n",
            "None\n"
          ]
        }
      ]
    },
    {
      "cell_type": "markdown",
      "source": [
        "Filter holidays for test data"
      ],
      "metadata": {
        "id": "VRB8e2x4gznI"
      }
    },
    {
      "cell_type": "code",
      "source": [
        "holiday_data_test = df_test[df_test['holiday_type'].notna()]\n",
        "print(len(list(holiday_data_test['holiday_type'])))\n",
        "holiday_data_test = df_test[\n",
        "    (df_test['holiday_type'] == 'Holiday')\n",
        "    & ((df_test['locale'] == 'National')\n",
        "        | (df_test['locale_name'] == df_test['city'])\n",
        "        | ((df_test['locale'] == 'Regional') & (df_test['locale_name'] == df_test['state'])))]\n",
        "print(len(list(holiday_data_test['holiday_type'])))\n",
        "print(holiday_data_test.info())"
      ],
      "metadata": {
        "execution": {
          "iopub.status.busy": "2024-02-02T04:57:37.485872Z",
          "iopub.execute_input": "2024-02-02T04:57:37.486246Z",
          "iopub.status.idle": "2024-02-02T04:57:37.523134Z",
          "shell.execute_reply.started": "2024-02-02T04:57:37.486214Z",
          "shell.execute_reply": "2024-02-02T04:57:37.521407Z"
        },
        "trusted": true,
        "id": "84_sIegzfjpY",
        "colab": {
          "base_uri": "https://localhost:8080/"
        },
        "outputId": "ce2abbc6-2b80-42ca-cc7b-0157a50d3e31"
      },
      "execution_count": 7,
      "outputs": [
        {
          "output_type": "stream",
          "name": "stdout",
          "text": [
            "1782\n",
            "66\n",
            "<class 'pandas.core.frame.DataFrame'>\n",
            "Int64Index: 66 entries, 14751 to 15773\n",
            "Data columns (total 15 columns):\n",
            " #   Column        Non-Null Count  Dtype  \n",
            "---  ------        --------------  -----  \n",
            " 0   id            66 non-null     int64  \n",
            " 1   date          66 non-null     object \n",
            " 2   store_nbr     66 non-null     int64  \n",
            " 3   family        66 non-null     object \n",
            " 4   onpromotion   66 non-null     int64  \n",
            " 5   city          66 non-null     object \n",
            " 6   state         66 non-null     object \n",
            " 7   store_type    66 non-null     object \n",
            " 8   cluster       66 non-null     int64  \n",
            " 9   dcoilwtico    66 non-null     float64\n",
            " 10  holiday_type  66 non-null     object \n",
            " 11  locale        66 non-null     object \n",
            " 12  locale_name   66 non-null     object \n",
            " 13  description   66 non-null     object \n",
            " 14  transferred   66 non-null     object \n",
            "dtypes: float64(1), int64(4), object(10)\n",
            "memory usage: 8.2+ KB\n",
            "None\n"
          ]
        }
      ]
    },
    {
      "cell_type": "markdown",
      "source": [
        "Merge the holiday information back to the train and test data"
      ],
      "metadata": {
        "id": "E3GlBmBLg5fR"
      }
    },
    {
      "cell_type": "code",
      "source": [
        "holiday_data_filtered = holiday_data[[\"id\"]]\n",
        "holiday_data_filtered.loc[:,\"holiday\"] = 1\n",
        "holiday_data_test_filtered = holiday_data_test[[\"id\"]]\n",
        "holiday_data_test_filtered.loc[:,\"holiday\"] = 1\n",
        "df_train = df_train.merge(holiday_data_filtered,on='id',how='left')\n",
        "df_test = df_test.merge(holiday_data_test_filtered,on='id', how='left')\n",
        "print(df_train['holiday'].info())"
      ],
      "metadata": {
        "execution": {
          "iopub.status.busy": "2024-02-02T04:57:37.525419Z",
          "iopub.execute_input": "2024-02-02T04:57:37.525975Z",
          "iopub.status.idle": "2024-02-02T04:57:39.667775Z",
          "shell.execute_reply.started": "2024-02-02T04:57:37.525925Z",
          "shell.execute_reply": "2024-02-02T04:57:39.666043Z"
        },
        "trusted": true,
        "id": "zjRCl5chfjpY",
        "colab": {
          "base_uri": "https://localhost:8080/"
        },
        "outputId": "fb8e16cd-e70f-4807-dfdf-0e397b969c5d"
      },
      "execution_count": 8,
      "outputs": [
        {
          "output_type": "stream",
          "name": "stderr",
          "text": [
            "<ipython-input-8-4d9ac7877baf>:2: SettingWithCopyWarning: \n",
            "A value is trying to be set on a copy of a slice from a DataFrame.\n",
            "Try using .loc[row_indexer,col_indexer] = value instead\n",
            "\n",
            "See the caveats in the documentation: https://pandas.pydata.org/pandas-docs/stable/user_guide/indexing.html#returning-a-view-versus-a-copy\n",
            "  holiday_data_filtered.loc[:,\"holiday\"] = 1\n",
            "<ipython-input-8-4d9ac7877baf>:4: SettingWithCopyWarning: \n",
            "A value is trying to be set on a copy of a slice from a DataFrame.\n",
            "Try using .loc[row_indexer,col_indexer] = value instead\n",
            "\n",
            "See the caveats in the documentation: https://pandas.pydata.org/pandas-docs/stable/user_guide/indexing.html#returning-a-view-versus-a-copy\n",
            "  holiday_data_test_filtered.loc[:,\"holiday\"] = 1\n"
          ]
        },
        {
          "output_type": "stream",
          "name": "stdout",
          "text": [
            "<class 'pandas.core.series.Series'>\n",
            "Int64Index: 3054414 entries, 0 to 3054413\n",
            "Series name: holiday\n",
            "Non-Null Count  Dtype  \n",
            "--------------  -----  \n",
            "99594 non-null  float64\n",
            "dtypes: float64(1)\n",
            "memory usage: 46.6 MB\n",
            "None\n"
          ]
        }
      ]
    },
    {
      "cell_type": "markdown",
      "source": [
        "# Prepare data"
      ],
      "metadata": {
        "id": "8gSM3QLjfjpY"
      }
    },
    {
      "cell_type": "markdown",
      "source": [
        "Remove unneccessary columns."
      ],
      "metadata": {
        "id": "RmmuyBIZfjpZ"
      }
    },
    {
      "cell_type": "code",
      "source": [
        "df_train = df_train.drop(['holiday_type', 'locale','locale_name','description','transferred'], axis=1)\n",
        "df_test = df_test.drop(['holiday_type', 'locale','locale_name','description','transferred'], axis=1)\n",
        "print(df_train.info())\n",
        "print(df_test.info())"
      ],
      "metadata": {
        "execution": {
          "iopub.status.busy": "2024-02-02T04:57:39.669505Z",
          "iopub.execute_input": "2024-02-02T04:57:39.669948Z",
          "iopub.status.idle": "2024-02-02T04:57:40.055589Z",
          "shell.execute_reply.started": "2024-02-02T04:57:39.669889Z",
          "shell.execute_reply": "2024-02-02T04:57:40.054379Z"
        },
        "trusted": true,
        "id": "6VeXclEsfjpZ",
        "colab": {
          "base_uri": "https://localhost:8080/"
        },
        "outputId": "05e0e1de-8e30-49a9-a86f-a9de48e2606a"
      },
      "execution_count": 9,
      "outputs": [
        {
          "output_type": "stream",
          "name": "stdout",
          "text": [
            "<class 'pandas.core.frame.DataFrame'>\n",
            "Int64Index: 3054414 entries, 0 to 3054413\n",
            "Data columns (total 12 columns):\n",
            " #   Column       Dtype  \n",
            "---  ------       -----  \n",
            " 0   id           int64  \n",
            " 1   date         object \n",
            " 2   store_nbr    int64  \n",
            " 3   family       object \n",
            " 4   sales        float64\n",
            " 5   onpromotion  int64  \n",
            " 6   city         object \n",
            " 7   state        object \n",
            " 8   store_type   object \n",
            " 9   cluster      int64  \n",
            " 10  dcoilwtico   float64\n",
            " 11  holiday      float64\n",
            "dtypes: float64(3), int64(4), object(5)\n",
            "memory usage: 302.9+ MB\n",
            "None\n",
            "<class 'pandas.core.frame.DataFrame'>\n",
            "Int64Index: 28512 entries, 0 to 28511\n",
            "Data columns (total 11 columns):\n",
            " #   Column       Non-Null Count  Dtype  \n",
            "---  ------       --------------  -----  \n",
            " 0   id           28512 non-null  int64  \n",
            " 1   date         28512 non-null  object \n",
            " 2   store_nbr    28512 non-null  int64  \n",
            " 3   family       28512 non-null  object \n",
            " 4   onpromotion  28512 non-null  int64  \n",
            " 5   city         28512 non-null  object \n",
            " 6   state        28512 non-null  object \n",
            " 7   store_type   28512 non-null  object \n",
            " 8   cluster      28512 non-null  int64  \n",
            " 9   dcoilwtico   21384 non-null  float64\n",
            " 10  holiday      66 non-null     float64\n",
            "dtypes: float64(2), int64(4), object(5)\n",
            "memory usage: 2.6+ MB\n",
            "None\n"
          ]
        }
      ]
    },
    {
      "cell_type": "markdown",
      "source": [
        "One-Hot Encode Categorical Columns"
      ],
      "metadata": {
        "id": "hMxz5CXZfjpZ"
      }
    },
    {
      "cell_type": "code",
      "source": [
        "# Columns to encode\n",
        "columns_to_encode = ['family', 'city', 'state', 'store_type']\n",
        "# One-hot encode these columns in the training data\n",
        "train_encoded = pd.get_dummies(df_train, columns=columns_to_encode)\n",
        "\n",
        "# One-hot encode these columns in the testing data\n",
        "test_encoded = pd.get_dummies(df_test, columns=columns_to_encode)\n",
        "\n",
        "# Get the list of columns from the training data\n",
        "encoded_columns = train_encoded.columns\n",
        "\n",
        "# Ensure the columns of the test data match the training data\n",
        "# Missing columns in the test set are added as zeros\n",
        "for column in encoded_columns:\n",
        "    if column not in test_encoded and column != 'sales':\n",
        "        test_encoded[column] = 0\n",
        "\n",
        "# Ensure the order of columns in the test set matches the training set\n",
        "#test_encoded = test_encoded[encoded_columns]\n",
        "\n",
        "# If there are extra columns in the test set that are not in the training set, drop them\n",
        "extra_columns = set(test_encoded.columns) - set(encoded_columns)\n",
        "if extra_columns:\n",
        "    test_encoded = test_encoded.drop(columns=extra_columns)\n",
        "\n",
        "# Convert date column to numerical year, month, day, day of week columns\n",
        "train_encoded['date'] = pd.to_datetime(train_encoded['date'], format='%Y-%m-%d')\n",
        "test_encoded['date'] = pd.to_datetime(test_encoded['date'], format='%Y-%m-%d')\n",
        "\n",
        "train_encoded['year'] = train_encoded['date'].dt.year\n",
        "train_encoded['month'] = train_encoded['date'].dt.month\n",
        "train_encoded['day'] = train_encoded['date'].dt.day\n",
        "train_encoded['dayofweek'] = train_encoded['date'].dt.dayofweek\n",
        "test_encoded['year'] = test_encoded['date'].dt.year\n",
        "test_encoded['month'] = test_encoded['date'].dt.month\n",
        "test_encoded['day'] = test_encoded['date'].dt.day\n",
        "test_encoded['dayofweek'] = test_encoded['date'].dt.dayofweek\n",
        "\n",
        "train_encoded = train_encoded.drop(['date','id'], axis=1)\n",
        "test_encoded = test_encoded.drop(['date','id'], axis=1)"
      ],
      "metadata": {
        "execution": {
          "iopub.status.busy": "2024-02-02T04:57:40.057297Z",
          "iopub.execute_input": "2024-02-02T04:57:40.057768Z",
          "iopub.status.idle": "2024-02-02T04:57:45.442378Z",
          "shell.execute_reply.started": "2024-02-02T04:57:40.057725Z",
          "shell.execute_reply": "2024-02-02T04:57:45.441055Z"
        },
        "trusted": true,
        "id": "3n1kx52efjpZ"
      },
      "execution_count": 10,
      "outputs": []
    },
    {
      "cell_type": "markdown",
      "source": [
        "Data Normalization Using Min-Max Scaling"
      ],
      "metadata": {
        "id": "MHWkHqAQfjpZ"
      }
    },
    {
      "cell_type": "code",
      "source": [
        "from sklearn.preprocessing import MinMaxScaler\n",
        "\n",
        "target = train_encoded['sales']\n",
        "train_encoded = train_encoded.drop(['sales'],axis=1)\n",
        "\n",
        "sc = MinMaxScaler(feature_range = (0,1))\n",
        "target_sc = MinMaxScaler(feature_range = (0,1))\n",
        "training_data_scaled = sc.fit_transform(train_encoded)\n",
        "target_scaled = target_sc.fit_transform(target.values.reshape(-1, 1))\n",
        "training_data_scaled.shape"
      ],
      "metadata": {
        "execution": {
          "iopub.status.busy": "2024-02-02T04:57:45.446819Z",
          "iopub.execute_input": "2024-02-02T04:57:45.447266Z",
          "iopub.status.idle": "2024-02-02T04:58:01.950431Z",
          "shell.execute_reply.started": "2024-02-02T04:57:45.447219Z",
          "shell.execute_reply": "2024-02-02T04:58:01.948901Z"
        },
        "trusted": true,
        "id": "9ivB_zjjfjpZ",
        "colab": {
          "base_uri": "https://localhost:8080/"
        },
        "outputId": "5a9bb015-c5af-409c-cc94-bf42d0663813"
      },
      "execution_count": 11,
      "outputs": [
        {
          "output_type": "execute_result",
          "data": {
            "text/plain": [
              "(3054414, 85)"
            ]
          },
          "metadata": {},
          "execution_count": 11
        }
      ]
    },
    {
      "cell_type": "markdown",
      "source": [
        "Split data into training and validation sets"
      ],
      "metadata": {
        "id": "BZNeacjIhF6Z"
      }
    },
    {
      "cell_type": "code",
      "source": [
        "from sklearn.model_selection import train_test_split\n",
        "\n",
        "X_train, X_val, y_train, y_val = train_test_split(training_data_scaled, target_scaled, test_size=0.2, random_state=42)"
      ],
      "metadata": {
        "execution": {
          "iopub.status.busy": "2024-02-02T04:58:01.952991Z",
          "iopub.execute_input": "2024-02-02T04:58:01.954058Z",
          "iopub.status.idle": "2024-02-02T04:58:05.590902Z",
          "shell.execute_reply.started": "2024-02-02T04:58:01.954004Z",
          "shell.execute_reply": "2024-02-02T04:58:05.589287Z"
        },
        "trusted": true,
        "id": "OqUjV_kTfjpZ"
      },
      "execution_count": 12,
      "outputs": []
    },
    {
      "cell_type": "markdown",
      "source": [
        "# Build and Train the Model"
      ],
      "metadata": {
        "id": "Ce7GL97Efjpa"
      }
    },
    {
      "cell_type": "markdown",
      "source": [
        "Create the model architecture"
      ],
      "metadata": {
        "id": "xLdC2pvphMpB"
      }
    },
    {
      "cell_type": "code",
      "source": [
        "import torch\n",
        "import torch.nn as nn\n",
        "import torch.optim as optim\n",
        "from torch.utils.data import DataLoader, TensorDataset\n",
        "\n",
        "# Neural Network implementation with 3 Linear hidden layers\n",
        "class NeuralNetwork(nn.Module):\n",
        "    def __init__(self, input_size, output_size):\n",
        "        super(NeuralNetwork, self).__init__()\n",
        "        self.relu = nn.ReLU()\n",
        "        self.fc1 = nn.Linear(input_size, 256)\n",
        "        self.fc2 = nn.Linear(256,128)\n",
        "        self.fc3 = nn.Linear(128,64)\n",
        "        self.fc4 = nn.Linear(64,output_size)\n",
        "\n",
        "    def forward(self, x):\n",
        "        x = self.relu(self.fc1(x))\n",
        "        x = self.relu(self.fc2(x))\n",
        "        x = self.relu(self.fc3(x))\n",
        "        return torch.sigmoid(self.fc4(x))"
      ],
      "metadata": {
        "execution": {
          "iopub.status.busy": "2024-02-02T04:58:05.59265Z",
          "iopub.execute_input": "2024-02-02T04:58:05.593171Z",
          "iopub.status.idle": "2024-02-02T04:58:07.570864Z",
          "shell.execute_reply.started": "2024-02-02T04:58:05.593138Z",
          "shell.execute_reply": "2024-02-02T04:58:07.569571Z"
        },
        "trusted": true,
        "id": "zoT6bieXfjpa"
      },
      "execution_count": 13,
      "outputs": []
    },
    {
      "cell_type": "markdown",
      "source": [
        "Convert data into tensors for training"
      ],
      "metadata": {
        "id": "LZ5fiPVPhtF8"
      }
    },
    {
      "cell_type": "code",
      "source": [
        "# Convert to PyTorch tensors\n",
        "X_train = np.nan_to_num(X_train, nan=0.0)\n",
        "X_train_tensor = torch.tensor(X_train).float()\n",
        "y_train_tensor = torch.tensor(y_train).float()\n",
        "\n",
        "X_val = np.nan_to_num(X_val, nan=0.0)\n",
        "X_val_tensor = torch.tensor(X_val).float()\n",
        "y_val_tensor = torch.tensor(y_val).float()\n",
        "\n",
        "# Create datasets and data loaders\n",
        "train_data = TensorDataset(X_train_tensor, y_train_tensor)\n",
        "train_loader = DataLoader(dataset=train_data, batch_size=64, shuffle=True)\n",
        "val_data = TensorDataset(X_val_tensor, y_val_tensor)\n",
        "val_loader = DataLoader(dataset=val_data, batch_size=32, shuffle=False)"
      ],
      "metadata": {
        "execution": {
          "iopub.status.busy": "2024-02-02T04:58:07.572601Z",
          "iopub.execute_input": "2024-02-02T04:58:07.573212Z",
          "iopub.status.idle": "2024-02-02T04:58:12.462557Z",
          "shell.execute_reply.started": "2024-02-02T04:58:07.573179Z",
          "shell.execute_reply": "2024-02-02T04:58:12.461272Z"
        },
        "trusted": true,
        "id": "bEm1aVjnfjpa"
      },
      "execution_count": 14,
      "outputs": []
    },
    {
      "cell_type": "markdown",
      "source": [
        "Initalize model weights using Xavier initialization"
      ],
      "metadata": {
        "id": "mvx_4dm9h2mh"
      }
    },
    {
      "cell_type": "code",
      "source": [
        "def init_weights(m):\n",
        "    if type(m) == nn.Linear:\n",
        "        torch.nn.init.xavier_uniform_(m.weight)\n",
        "        m.bias.data.fill_(0.01)"
      ],
      "metadata": {
        "execution": {
          "iopub.status.busy": "2024-02-02T04:58:12.844603Z",
          "iopub.execute_input": "2024-02-02T04:58:12.844948Z",
          "iopub.status.idle": "2024-02-02T04:58:12.851279Z",
          "shell.execute_reply.started": "2024-02-02T04:58:12.844916Z",
          "shell.execute_reply": "2024-02-02T04:58:12.849808Z"
        },
        "trusted": true,
        "id": "h1gGbkpafjpa"
      },
      "execution_count": 15,
      "outputs": []
    },
    {
      "cell_type": "markdown",
      "source": [
        "Train the model"
      ],
      "metadata": {
        "id": "IOcP0y_Hh7F9"
      }
    },
    {
      "cell_type": "code",
      "source": [
        "# Define model parameters\n",
        "input_size = 85\n",
        "output_size = 1\n",
        "val_loss_best=1\n",
        "learning_rate = 0.0001\n",
        "num_epochs = 50\n",
        "\n",
        "# Instantiate model\n",
        "model = NeuralNetwork(input_size, output_size)\n",
        "model.apply(init_weights)\n",
        "\n",
        "# Loss and optimizer\n",
        "optimizer = optim.Adam(model.parameters(), lr=learning_rate)\n",
        "\n",
        "# Loss function - RMSLE\n",
        "def rmsle_loss(y_pred, y_true):\n",
        "    # Ensure that predictions and labels are all positive and nonzero\n",
        "    y_pred = torch.clamp(y_pred, min=1e-10)\n",
        "    y_true = torch.clamp(y_true, min=1e-10)\n",
        "\n",
        "    # Take the Logarithm\n",
        "    log_y_pred = torch.log(y_pred)\n",
        "    log_y_true = torch.log(y_true)\n",
        "\n",
        "    # Calculate the squared log error\n",
        "    squared_log_error = (log_y_pred - log_y_true) ** 2\n",
        "\n",
        "    # Calculate the mean of the squared log error and take the square root\n",
        "    mean_squared_log_error = torch.mean(squared_log_error)\n",
        "    loss = torch.sqrt(mean_squared_log_error)\n",
        "    return loss\n",
        "\n",
        "for epoch in range(num_epochs):\n",
        "    # Set model to training mode and train with the training set\n",
        "\n",
        "    model.train()\n",
        "    train_loss = 0\n",
        "    for i, (features, labels) in enumerate(train_loader):\n",
        "        # Forward pass\n",
        "        outputs = model(features)\n",
        "        loss = rmsle_loss(outputs, labels)\n",
        "\n",
        "        # Backward and optimize\n",
        "        optimizer.zero_grad()\n",
        "        loss.backward()\n",
        "        optimizer.step()\n",
        "\n",
        "        print(f'\\rEpoch [{epoch+1}/{num_epochs}], Step [{i+1}/{len(train_loader)}], Loss: {loss.item()}', end = '\\t\\t\\t\\t')\n",
        "        train_loss += loss.item()\n",
        "    train_loss /= len(train_loader)\n",
        "\n",
        "    # Set model to evaluation mode and test with validation data\n",
        "\n",
        "    model.eval()\n",
        "    with torch.no_grad():\n",
        "        val_loss = 0\n",
        "        for val_features, val_labels in val_loader:\n",
        "            # Forward pass\n",
        "            val_outputs = model(val_features)\n",
        "            # Calculate loss\n",
        "            batch_loss = rmsle_loss(val_outputs, val_labels)\n",
        "            val_loss += batch_loss.item()\n",
        "\n",
        "        # Average the validation loss\n",
        "        val_loss /= len(val_loader)\n",
        "\n",
        "    # Print training and validation loss for each epoch, save model if validation loss reaches lowest value\n",
        "    print(f'\\rEpoch [{epoch+1}/{num_epochs}], Step [{i+1}/{len(train_loader)}], Train_Loss: {loss.item()}, Val_Loss = {val_loss}')\n",
        "    if val_loss < val_loss_best:\n",
        "        torch.save(model, 'model.pth')\n",
        "        val_loss_best = val_loss"
      ],
      "metadata": {
        "execution": {
          "iopub.status.busy": "2024-02-02T04:58:12.85285Z",
          "iopub.execute_input": "2024-02-02T04:58:12.853203Z",
          "iopub.status.idle": "2024-02-02T05:34:02.042727Z",
          "shell.execute_reply.started": "2024-02-02T04:58:12.853171Z",
          "shell.execute_reply": "2024-02-02T05:34:02.041255Z"
        },
        "trusted": true,
        "id": "nFYfwmaZfjpa",
        "colab": {
          "base_uri": "https://localhost:8080/"
        },
        "outputId": "dd1ddae9-1ec2-41f6-da1e-fe0c95ffd790"
      },
      "execution_count": 16,
      "outputs": [
        {
          "output_type": "stream",
          "name": "stdout",
          "text": [
            "Epoch [1/50], Step [38181/38181], Train_Loss: 4.861000061035156, Val_Loss = 3.053900422657662\n",
            "Epoch [2/50], Step [38181/38181], Train_Loss: 1.9104530811309814, Val_Loss = 2.830978377091679\n",
            "Epoch [3/50], Step [38181/38181], Train_Loss: 3.860786199569702, Val_Loss = 2.737583511278207\n",
            "Epoch [4/50], Step [38181/38181], Train_Loss: 0.9673414826393127, Val_Loss = 2.651213358651973\n",
            "Epoch [5/50], Step [38181/38181], Train_Loss: 3.7751431465148926, Val_Loss = 2.5777797351028475\n",
            "Epoch [6/50], Step [38181/38181], Train_Loss: 2.4289872646331787, Val_Loss = 2.5034773182712224\n",
            "Epoch [7/50], Step [38181/38181], Train_Loss: 3.184575080871582, Val_Loss = 2.4727015219256887\n",
            "Epoch [8/50], Step [38181/38181], Train_Loss: 2.125272750854492, Val_Loss = 2.4474699338134602\n",
            "Epoch [9/50], Step [38181/38181], Train_Loss: 1.6846610307693481, Val_Loss = 2.391352779982595\n",
            "Epoch [10/50], Step [38181/38181], Train_Loss: 1.5390253067016602, Val_Loss = 2.3781408488884708\n",
            "Epoch [11/50], Step [38181/38181], Train_Loss: 2.013667583465576, Val_Loss = 2.3299500786107954\n",
            "Epoch [12/50], Step [38181/38181], Train_Loss: 1.380968451499939, Val_Loss = 2.3223948764779796\n",
            "Epoch [13/50], Step [38181/38181], Train_Loss: 2.0467376708984375, Val_Loss = 2.2854175848431613\n",
            "Epoch [14/50], Step [38181/38181], Train_Loss: 0.5905459523200989, Val_Loss = 2.311971915540713\n",
            "Epoch [15/50], Step [38181/38181], Train_Loss: 1.8702020645141602, Val_Loss = 2.271540313889654\n",
            "Epoch [16/50], Step [38181/38181], Train_Loss: 1.917863368988037, Val_Loss = 2.2848310435597554\n",
            "Epoch [17/50], Step [38181/38181], Train_Loss: 0.2543942630290985, Val_Loss = 2.208264462819588\n",
            "Epoch [18/50], Step [38181/38181], Train_Loss: 1.266766905784607, Val_Loss = 2.1449198017323114\n",
            "Epoch [19/50], Step [38181/38181], Train_Loss: 4.669527530670166, Val_Loss = 2.151553462744134\n",
            "Epoch [20/50], Step [38181/38181], Train_Loss: 3.176435708999634, Val_Loss = 2.1298344794093556\n",
            "Epoch [21/50], Step [38181/38181], Train_Loss: 4.036832332611084, Val_Loss = 2.1254584041259843\n",
            "Epoch [22/50], Step [38181/38181], Train_Loss: 0.5153666138648987, Val_Loss = 2.1270561402436354\n",
            "Epoch [23/50], Step [38181/38181], Train_Loss: 0.2186633050441742, Val_Loss = 2.096755228275951\n",
            "Epoch [24/50], Step [38181/38181], Train_Loss: 0.4737823009490967, Val_Loss = 2.096400966845852\n",
            "Epoch [25/50], Step [38181/38181], Train_Loss: 1.0230985879898071, Val_Loss = 2.1112600133345167\n",
            "Epoch [26/50], Step [38181/38181], Train_Loss: 2.4745562076568604, Val_Loss = 2.078617705121503\n",
            "Epoch [27/50], Step [38181/38181], Train_Loss: 1.8377925157546997, Val_Loss = 2.0702067327247433\n",
            "Epoch [28/50], Step [38181/38181], Train_Loss: 2.6831178665161133, Val_Loss = 2.062740845972094\n",
            "Epoch [29/50], Step [38181/38181], Train_Loss: 0.9312528967857361, Val_Loss = 2.091864952248087\n",
            "Epoch [30/50], Step [38181/38181], Train_Loss: 2.178354501724243, Val_Loss = 2.071437076718391\n",
            "Epoch [31/50], Step [38181/38181], Train_Loss: 3.3069636821746826, Val_Loss = 2.059509246851436\n",
            "Epoch [32/50], Step [38181/38181], Train_Loss: 2.30499529838562, Val_Loss = 2.0694256104674476\n",
            "Epoch [33/50], Step [38181/38181], Train_Loss: 0.885428786277771, Val_Loss = 2.0608744742048954\n",
            "Epoch [34/50], Step [38181/38181], Train_Loss: 4.052733898162842, Val_Loss = 2.058598685674992\n",
            "Epoch [35/50], Step [38181/38181], Train_Loss: 0.3234928846359253, Val_Loss = 2.0701653963689264\n",
            "Epoch [36/50], Step [38181/38181], Train_Loss: 1.5742146968841553, Val_Loss = 2.0626357320086712\n",
            "Epoch [37/50], Step [38181/38181], Train_Loss: 1.675391674041748, Val_Loss = 2.0462464819546704\n",
            "Epoch [38/50], Step [38181/38181], Train_Loss: 1.5843641757965088, Val_Loss = 2.0462680867108745\n",
            "Epoch [39/50], Step [38181/38181], Train_Loss: 0.26678788661956787, Val_Loss = 2.0424952718588205\n",
            "Epoch [40/50], Step [38181/38181], Train_Loss: 0.4163520634174347, Val_Loss = 2.0401339075314366\n",
            "Epoch [41/50], Step [38181/38181], Train_Loss: 0.6094455122947693, Val_Loss = 2.06073673995814\n",
            "Epoch [42/50], Step [38181/38181], Train_Loss: 3.518683910369873, Val_Loss = 2.040226346308674\n",
            "Epoch [43/50], Step [38181/38181], Train_Loss: 3.1464452743530273, Val_Loss = 2.0361816384203446\n",
            "Epoch [44/50], Step [38181/38181], Train_Loss: 3.146095037460327, Val_Loss = 2.040013413638818\n",
            "Epoch [45/50], Step [38181/38181], Train_Loss: 3.8061609268188477, Val_Loss = 2.0409402730959356\n",
            "Epoch [46/50], Step [38181/38181], Train_Loss: 0.5144285559654236, Val_Loss = 2.11869484148863\n",
            "Epoch [47/50], Step [38181/38181], Train_Loss: 2.667664051055908, Val_Loss = 2.038483684488255\n",
            "Epoch [48/50], Step [38181/38181], Train_Loss: 0.9061852693557739, Val_Loss = 2.0374829752509163\n",
            "Epoch [49/50], Step [38181/38181], Train_Loss: 0.22921666502952576, Val_Loss = 2.0341140184471276\n",
            "Epoch [50/50], Step [38181/38181], Train_Loss: 3.331666946411133, Val_Loss = 2.0386301368817614\n"
          ]
        }
      ]
    },
    {
      "cell_type": "markdown",
      "source": [
        "Evaluate the model using Root Mean Squared Log Error"
      ],
      "metadata": {
        "id": "2bpCnv-Cfjpa"
      }
    },
    {
      "cell_type": "code",
      "source": [
        "from sklearn.metrics import mean_squared_log_error\n",
        "\n",
        "# Load the best model\n",
        "#model = torch.load('model.pth')\n",
        "\n",
        "X_val = np.nan_to_num(X_val, nan=0.0)\n",
        "X_val_tensor = torch.tensor(X_val).float()\n",
        "y_val_tensor = torch.tensor(y_val).float()\n",
        "\n",
        "# Make predictions on validation data to calculate Root Mean Squared Log Error\n",
        "with torch.no_grad():\n",
        "    model.eval()\n",
        "    predictions = model(X_val_tensor)\n",
        "    predictions = target_sc.inverse_transform(predictions.numpy())\n",
        "    actuals = target_sc.inverse_transform(y_val_tensor.numpy())\n",
        "\n",
        "# Calculate RMSLE\n",
        "# Add a small constant as log(0) is not defined\n",
        "rmsle = np.sqrt(mean_squared_log_error(actuals, np.maximum(0, predictions)))\n",
        "print(f'RMSLE: {rmsle}')"
      ],
      "metadata": {
        "execution": {
          "iopub.status.busy": "2024-02-02T05:34:02.044924Z",
          "iopub.execute_input": "2024-02-02T05:34:02.045456Z",
          "iopub.status.idle": "2024-02-02T05:34:05.09966Z",
          "shell.execute_reply.started": "2024-02-02T05:34:02.045408Z",
          "shell.execute_reply": "2024-02-02T05:34:05.098176Z"
        },
        "trusted": true,
        "id": "Oxb984LZfjpa",
        "colab": {
          "base_uri": "https://localhost:8080/"
        },
        "outputId": "a82a8efd-7f45-4606-c285-5432a0748400"
      },
      "execution_count": 18,
      "outputs": [
        {
          "output_type": "stream",
          "name": "stdout",
          "text": [
            "RMSLE: 0.5147320628166199\n"
          ]
        }
      ]
    },
    {
      "cell_type": "markdown",
      "source": [
        "Print statistical summary of actual vs predicted outputs of val data"
      ],
      "metadata": {
        "id": "LJ08WPwQj1Ps"
      }
    },
    {
      "cell_type": "code",
      "source": [
        "data = pd.DataFrame({'Actual': actuals[:,0], 'Prediction': predictions[:,0]})\n",
        "print(data.describe())"
      ],
      "metadata": {
        "execution": {
          "iopub.status.busy": "2024-02-02T05:34:05.101738Z",
          "iopub.execute_input": "2024-02-02T05:34:05.102526Z",
          "iopub.status.idle": "2024-02-02T05:34:05.175576Z",
          "shell.execute_reply.started": "2024-02-02T05:34:05.10248Z",
          "shell.execute_reply": "2024-02-02T05:34:05.1739Z"
        },
        "trusted": true,
        "id": "Oo4j7bKJfjpa",
        "colab": {
          "base_uri": "https://localhost:8080/"
        },
        "outputId": "00d94195-5585-445a-ac55-7f169d7f57c4"
      },
      "execution_count": 19,
      "outputs": [
        {
          "output_type": "stream",
          "name": "stdout",
          "text": [
            "              Actual     Prediction\n",
            "count  610883.000000  610883.000000\n",
            "mean      357.403320     358.939880\n",
            "std      1105.589722    1094.198853\n",
            "min         0.000000       0.000000\n",
            "25%         0.000000       0.000022\n",
            "50%        11.000000       9.205843\n",
            "75%       195.526505     198.921860\n",
            "max     89576.359375   23865.511719\n"
          ]
        }
      ]
    },
    {
      "cell_type": "markdown",
      "source": [
        "# Make predictions and create submission file"
      ],
      "metadata": {
        "id": "GLtGOf4lfjpb"
      }
    },
    {
      "cell_type": "code",
      "source": [
        "\n",
        "X_test = sc.transform(test_encoded)\n",
        "X_test = np.nan_to_num(X_test, nan=0.0)\n",
        "X_test_tensor = torch.tensor(X_test).float()\n",
        "\n",
        "# Turn off gradients for validation, saves memory and computations\n",
        "with torch.no_grad():\n",
        "    model.eval()  # Set the model to evaluation mode\n",
        "    preds = model(X_test_tensor)\n",
        "    preds = target_sc.inverse_transform(preds.numpy())\n",
        "\n",
        "submission = pd.DataFrame({\n",
        "    'id': df_test['id'],  # Assuming df_test has an 'id' column\n",
        "    'sales': preds.ravel()  # Convert 2D array to 1D\n",
        "})\n",
        "\n",
        "# Output the DataFrame to a CSV file\n",
        "submission.to_csv('submission.csv', index=False)\n",
        "\n",
        "# Display the first few rows of the submission file\n",
        "print(submission.head())"
      ],
      "metadata": {
        "execution": {
          "iopub.status.busy": "2024-02-02T05:34:05.177852Z",
          "iopub.execute_input": "2024-02-02T05:34:05.179315Z",
          "iopub.status.idle": "2024-02-02T05:34:05.533808Z",
          "shell.execute_reply.started": "2024-02-02T05:34:05.179265Z",
          "shell.execute_reply": "2024-02-02T05:34:05.532078Z"
        },
        "trusted": true,
        "id": "zAgIlsoIfjpb",
        "colab": {
          "base_uri": "https://localhost:8080/"
        },
        "outputId": "c5b008d6-e94f-4913-b6da-bb3d63e0502b"
      },
      "execution_count": 20,
      "outputs": [
        {
          "output_type": "stream",
          "name": "stdout",
          "text": [
            "        id         sales\n",
            "0  3000888  3.091428e+00\n",
            "1  3000889  1.737973e-06\n",
            "2  3000890  5.477537e+00\n",
            "3  3000891  2.071333e+03\n",
            "4  3000892  6.779166e-19\n"
          ]
        }
      ]
    },
    {
      "cell_type": "markdown",
      "source": [
        "Public RMSLE Score on Kaggle: 0.53631"
      ],
      "metadata": {
        "id": "JWbl3On8Hi0w"
      }
    }
  ]
}